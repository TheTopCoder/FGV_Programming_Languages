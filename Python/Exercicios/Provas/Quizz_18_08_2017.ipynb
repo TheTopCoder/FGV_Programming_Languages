{
 "cells": [
  {
   "cell_type": "markdown",
   "metadata": {},
   "source": [
    "1 - Dada a lista:"
   ]
  },
  {
   "cell_type": "code",
   "execution_count": 30,
   "metadata": {
    "collapsed": true
   },
   "outputs": [],
   "source": [
    "lista = [1,2,3,'4',5,6.3,7.4 + 2j,\"123\",[1,2,3], 93, \"98\"]"
   ]
  },
  {
   "cell_type": "markdown",
   "metadata": {},
   "source": [
    "Crie um código para imprimir o antecessor e o sucessor de cada elemento de uma lista:\n",
    "+ Caso este elemento seja inteiro, imprimir o valor;  \n",
    "+ Caso seja uma string, imprimir o inteiro correspondente;  \n",
    "+ Caso seja um real, imprima a parte inteira;\n",
    "+ Caso seja um imaginário, imprima a parte inteira e real;\n",
    "+ Caso seja uma sequência, seguie as regras acima para cada elemento da sequência.  "
   ]
  },
  {
   "cell_type": "code",
   "execution_count": 51,
   "metadata": {},
   "outputs": [
    {
     "name": "stdout",
     "output_type": "stream",
     "text": [
      "0\n",
      "2\n",
      "\n",
      "1\n",
      "3\n",
      "\n",
      "2\n",
      "4\n",
      "\n",
      "3\n",
      "5\n",
      "\n",
      "4\n",
      "6\n",
      "\n",
      "5\n",
      "7\n",
      "\n",
      "6\n",
      "8\n",
      "\n",
      "122\n",
      "124\n",
      "\n",
      "0\n",
      "2\n",
      "\n",
      "1\n",
      "3\n",
      "\n",
      "2\n",
      "4\n",
      "\n",
      "92\n",
      "94\n",
      "\n",
      "97\n",
      "99\n",
      "\n"
     ]
    }
   ],
   "source": [
    "import math\n",
    "\n",
    "def sp_print(a):\n",
    "    if type(a)==int:\n",
    "        print (a-1)\n",
    "        print (a+1)\n",
    "        print ('')\n",
    "    elif type(a)==str:\n",
    "        print (int(a)-1)\n",
    "        print (int(a)+1)\n",
    "        print ('')\n",
    "    elif type(a)==float:\n",
    "        print (math.floor(a)-1)\n",
    "        print (math.floor(a)+1)\n",
    "        print ('')\n",
    "    elif type(a)==complex:\n",
    "        print (math.floor(a.real)-1)\n",
    "        print (math.floor(a.real)+1)\n",
    "        print ('')\n",
    "    else :\n",
    "        for i in range(0,len(a)):\n",
    "            sp_print(a[i])\n",
    "\n",
    "for i in range(0,len(lista)):\n",
    "    sp_print(lista[i])\n"
   ]
  },
  {
   "cell_type": "markdown",
   "metadata": {},
   "source": [
    "2 - Os fatores primos de 13195 são 5, 7, 13 e 29. Qual o maior fator primo de 600851475143?  \n",
    "https://projecteuler.net/problem=3  "
   ]
  },
  {
   "cell_type": "code",
   "execution_count": 43,
   "metadata": {},
   "outputs": [
    {
     "name": "stdout",
     "output_type": "stream",
     "text": [
      "6857\n",
      "0.005092620849609375\n"
     ]
    }
   ],
   "source": [
    "import time\n",
    "t0 = time.time()\n",
    "n = 600851475143\n",
    "d = 2\n",
    "d_max = 1\n",
    "while n > 1:\n",
    "    if n%d == 0 :\n",
    "        n = n/d\n",
    "        d_max = d\n",
    "    else:\n",
    "        d = d+1\n",
    "print (d_max)\n",
    "print (time.time()-t0)"
   ]
  },
  {
   "cell_type": "markdown",
   "metadata": {},
   "source": [
    "3- Crie um programa que imprima os números de 1 a 100, mas nos múltiplos de 3 imprima “Fizz” em vez do  número e nos múltiplos de 5 imprima “Buzz”. Para os números que são múltiplos de tanto 3 como 5, imprima “FizzBuzz”.  "
   ]
  },
  {
   "cell_type": "code",
   "execution_count": 46,
   "metadata": {},
   "outputs": [
    {
     "name": "stdout",
     "output_type": "stream",
     "text": [
      "1\n",
      "2\n",
      "Fizz\n",
      "4\n",
      "Buzz\n",
      "Fizz\n",
      "7\n",
      "8\n",
      "Fizz\n",
      "Buzz\n",
      "11\n",
      "Fizz\n",
      "13\n",
      "14\n",
      "FizzBuzz\n",
      "16\n",
      "17\n",
      "Fizz\n",
      "19\n",
      "Buzz\n",
      "Fizz\n",
      "22\n",
      "23\n",
      "Fizz\n",
      "Buzz\n",
      "26\n",
      "Fizz\n",
      "28\n",
      "29\n",
      "FizzBuzz\n",
      "31\n",
      "32\n",
      "Fizz\n",
      "34\n",
      "Buzz\n",
      "Fizz\n",
      "37\n",
      "38\n",
      "Fizz\n",
      "Buzz\n",
      "41\n",
      "Fizz\n",
      "43\n",
      "44\n",
      "FizzBuzz\n",
      "46\n",
      "47\n",
      "Fizz\n",
      "49\n",
      "Buzz\n",
      "Fizz\n",
      "52\n",
      "53\n",
      "Fizz\n",
      "Buzz\n",
      "56\n",
      "Fizz\n",
      "58\n",
      "59\n",
      "FizzBuzz\n",
      "61\n",
      "62\n",
      "Fizz\n",
      "64\n",
      "Buzz\n",
      "Fizz\n",
      "67\n",
      "68\n",
      "Fizz\n",
      "Buzz\n",
      "71\n",
      "Fizz\n",
      "73\n",
      "74\n",
      "FizzBuzz\n",
      "76\n",
      "77\n",
      "Fizz\n",
      "79\n",
      "Buzz\n",
      "Fizz\n",
      "82\n",
      "83\n",
      "Fizz\n",
      "Buzz\n",
      "86\n",
      "Fizz\n",
      "88\n",
      "89\n",
      "FizzBuzz\n",
      "91\n",
      "92\n",
      "Fizz\n",
      "94\n",
      "Buzz\n",
      "Fizz\n",
      "97\n",
      "98\n",
      "Fizz\n",
      "Buzz\n"
     ]
    }
   ],
   "source": [
    "for i in range (1,101):\n",
    "    if i%15==0:\n",
    "        print (\"FizzBuzz\")\n",
    "    elif i%3==0:\n",
    "        print (\"Fizz\")\n",
    "    elif i%5==0:\n",
    "        print (\"Buzz\")\n",
    "    else:\n",
    "        print (i)"
   ]
  },
  {
   "cell_type": "markdown",
   "metadata": {},
   "source": [
    "4- Usando a biblioteca \"random\", crie um programa para calcular a média da soma de dois dados de 6 faces (D6) em 10000 lançamentos."
   ]
  },
  {
   "cell_type": "code",
   "execution_count": 53,
   "metadata": {
    "collapsed": true
   },
   "outputs": [],
   "source": [
    "import random"
   ]
  },
  {
   "cell_type": "code",
   "execution_count": 110,
   "metadata": {},
   "outputs": [
    {
     "name": "stdout",
     "output_type": "stream",
     "text": [
      "3.474\n"
     ]
    }
   ],
   "source": [
    "soma = 0\n",
    "for i in range (1,1001):\n",
    "    soma += math.floor(random.random()*6+1)\n",
    "print (soma/1000)"
   ]
  }
 ],
 "metadata": {
  "kernelspec": {
   "display_name": "Python 3",
   "language": "python",
   "name": "python3"
  },
  "language_info": {
   "codemirror_mode": {
    "name": "ipython",
    "version": 3
   },
   "file_extension": ".py",
   "mimetype": "text/x-python",
   "name": "python",
   "nbconvert_exporter": "python",
   "pygments_lexer": "ipython3",
   "version": "3.5.2+"
  }
 },
 "nbformat": 4,
 "nbformat_minor": 2
}
